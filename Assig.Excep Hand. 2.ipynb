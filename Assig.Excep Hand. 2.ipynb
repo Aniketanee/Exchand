{
 "cells": [
  {
   "cell_type": "markdown",
   "id": "ad4a4c83-617a-44d9-af5e-ee701c300f06",
   "metadata": {},
   "source": [
    "Exception Handling - 2"
   ]
  },
  {
   "cell_type": "markdown",
   "id": "a95e8acf-1a0f-4ac2-b332-fa0b5f70be9f",
   "metadata": {},
   "source": [
    "Solution - 1"
   ]
  },
  {
   "cell_type": "markdown",
   "id": "9759728b-3c95-4052-a6fa-3c250918ec30",
   "metadata": {},
   "source": [
    "Exception are used to handel unexpected or exceptional situation that can occur during the execution of a program . When we create custom exception ,we are essentially defining your own set of exceptional conditions that your program may encounter ."
   ]
  },
  {
   "cell_type": "markdown",
   "id": "b4656605-1822-4d97-b6c0-de6431d16811",
   "metadata": {},
   "source": [
    "Solution - 2"
   ]
  },
  {
   "cell_type": "code",
   "execution_count": 8,
   "id": "eca79cb1-5062-4817-8659-c47dd7c19b32",
   "metadata": {},
   "outputs": [
    {
     "ename": "SyntaxError",
     "evalue": "incomplete input (2180456234.py, line 8)",
     "output_type": "error",
     "traceback": [
      "\u001b[0;36m  Cell \u001b[0;32mIn[8], line 8\u001b[0;36m\u001b[0m\n\u001b[0;31m    print_exception_hierarchy(BaseException\u001b[0m\n\u001b[0m                                           ^\u001b[0m\n\u001b[0;31mSyntaxError\u001b[0m\u001b[0;31m:\u001b[0m incomplete input\n"
     ]
    }
   ],
   "source": [
    "def print_exception_hierarchy(exception_class, indent=0):\n",
    "    print(' ' * indent + exception_class.__name__)\n",
    "    for sub_exception in exception_class.__subclasses__():\n",
    "        print_exception_hierarchy(sub_exception, indent + 4)\n",
    "\n",
    "if __name__ == \"__main__\":\n",
    "    print(\"Python Exception Hierarchy:\")\n",
    "    print_exception_hierarchy(BaseException)\n"
   ]
  },
  {
   "cell_type": "markdown",
   "id": "c3decf7d-9589-4364-8415-6e2cdad096be",
   "metadata": {},
   "source": [
    "Solution - 3"
   ]
  },
  {
   "cell_type": "markdown",
   "id": "1a1ab5cb-6a1f-4676-941c-6d43869c8e28",
   "metadata": {},
   "source": [
    "Arithmetic errors typically refer to errors or exceptions that occur during mathematical operations in computer programming. These errors are often categorized into different types based on the nature of the problem. \n",
    "Two common arithmetic errors are:\n",
    "1.Division by Zero Error\n",
    "2.Overflow Error\n"
   ]
  },
  {
   "cell_type": "code",
   "execution_count": 13,
   "id": "520f0083-deb9-46fd-9ed9-3fbc997f219c",
   "metadata": {},
   "outputs": [
    {
     "name": "stdout",
     "output_type": "stream",
     "text": [
      "Error: division by zero\n"
     ]
    }
   ],
   "source": [
    "numerator = 10\n",
    "denominator = 0\n",
    "\n",
    "try:\n",
    "    result = numerator / denominator\n",
    "except ZeroDivisionError as e:\n",
    "    print(\"Error:\", e)\n"
   ]
  },
  {
   "cell_type": "code",
   "execution_count": 14,
   "id": "df504d12-1c22-4d54-9402-35f9ff93d984",
   "metadata": {},
   "outputs": [
    {
     "name": "stdout",
     "output_type": "stream",
     "text": [
      "9223372036854775808\n"
     ]
    }
   ],
   "source": [
    "import sys\n",
    "\n",
    "max_int = sys.maxsize  \n",
    "overflowed = max_int + 1\n",
    "\n",
    "try:\n",
    "    print(overflowed)\n",
    "except OverflowError as e:\n",
    "    print(\"Error:\", e)\n"
   ]
  },
  {
   "cell_type": "markdown",
   "id": "3629b2bd-275b-4931-807b-90e4257349c4",
   "metadata": {},
   "source": [
    "Solution - 4"
   ]
  },
  {
   "cell_type": "markdown",
   "id": "6f2f0c21-612d-43d3-81d8-4c86380a952d",
   "metadata": {},
   "source": [
    "The LookupError class in Python is a base class for exceptions that are raised when a lookup or indexing operation fails on a sequence-like object, such as a list, tuple, or dictionary. It serves as a parent class for several specific lookup-related exception classes and is a part of Python's exception hierarchy. The main purpose of the LookupError class is to provide a common base for these exceptions, making it easier to catch and handle them in a consistent manner."
   ]
  },
  {
   "cell_type": "code",
   "execution_count": 15,
   "id": "4cb1095f-4b11-4865-a1fa-13035f8cc566",
   "metadata": {},
   "outputs": [
    {
     "name": "stdout",
     "output_type": "stream",
     "text": [
      "LookupError occurred: 'address'\n"
     ]
    }
   ],
   "source": [
    "try:\n",
    "    my_dict = {'name': 'Anee', 'age': 23}\n",
    "    print(my_dict['address']) \n",
    "    my_list = [1, 2, 3]\n",
    "    print(my_list[5]) \n",
    "except LookupError as e:\n",
    "    print(f\"LookupError occurred: {e}\")\n"
   ]
  },
  {
   "cell_type": "markdown",
   "id": "d5155ffb-b1e1-4149-9592-f8e3081640cb",
   "metadata": {},
   "source": [
    "Solution - 5"
   ]
  },
  {
   "cell_type": "markdown",
   "id": "97cb8d26-7aeb-4d3e-95a4-65433f0be9b9",
   "metadata": {},
   "source": [
    "ImportError and ModuleNotFoundError are both exceptions in Python that occur when there are problems related to importing modules. However, they serve slightly different purposes .\n",
    "ImportError is a base class for exceptions related to importing modules. It is raised when Python encounters issues while trying to import a module or when there is a problem with the imported module itself. This exception can have various subtypes, depending on the specific import issue.\n",
    "ModuleNotFoundError is a subtype of ImportError. It is specifically raised when Python cannot find the module you are trying to import. This error occurs when Python cannot locate the specified module in the current working directory or any directories listed in the sys.path."
   ]
  },
  {
   "cell_type": "code",
   "execution_count": null,
   "id": "950a0826-dc35-4e14-ba7e-e0d90e2c797c",
   "metadata": {},
   "outputs": [],
   "source": []
  },
  {
   "cell_type": "code",
   "execution_count": null,
   "id": "1750ab34-e285-4669-87e8-a7d972c1999a",
   "metadata": {},
   "outputs": [],
   "source": []
  }
 ],
 "metadata": {
  "kernelspec": {
   "display_name": "Python 3 (ipykernel)",
   "language": "python",
   "name": "python3"
  },
  "language_info": {
   "codemirror_mode": {
    "name": "ipython",
    "version": 3
   },
   "file_extension": ".py",
   "mimetype": "text/x-python",
   "name": "python",
   "nbconvert_exporter": "python",
   "pygments_lexer": "ipython3",
   "version": "3.10.8"
  }
 },
 "nbformat": 4,
 "nbformat_minor": 5
}
